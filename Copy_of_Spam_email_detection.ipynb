{
  "nbformat": 4,
  "nbformat_minor": 0,
  "metadata": {
    "colab": {
      "name": "Copy of Spam email detection",
      "provenance": [],
      "include_colab_link": true
    },
    "kernelspec": {
      "name": "python3",
      "display_name": "Python 3"
    }
  },
  "cells": [
    {
      "cell_type": "markdown",
      "metadata": {
        "id": "view-in-github",
        "colab_type": "text"
      },
      "source": [
        "<a href=\"https://colab.research.google.com/github/surbhi-sharma99/python/blob/master/Copy_of_Spam_email_detection.ipynb\" target=\"_parent\"><img src=\"https://colab.research.google.com/assets/colab-badge.svg\" alt=\"Open In Colab\"/></a>"
      ]
    },
    {
      "cell_type": "code",
      "metadata": {
        "id": "IYvA4cWsTIpc",
        "colab_type": "code",
        "colab": {}
      },
      "source": [
        "#We would work on a small dataset of 5000 or so emails with spam and not spam(ham)\n",
        "#dataset can be found on kaggle here : https://www.kaggle.com/balakishan77/spam-or-ham-email-classification\n",
        "#Although there are very big datasets too in kaggle with 500000 emails, \n",
        "#but for ease of training and understanind, we are using 5600"
      ],
      "execution_count": null,
      "outputs": []
    },
    {
      "cell_type": "code",
      "metadata": {
        "id": "1ij_zxrVTprO",
        "colab_type": "code",
        "colab": {}
      },
      "source": [
        "#Upload our data set and keep in same folder as this notebook\n",
        "import numpy as np \n",
        "import pandas as pd\n",
        "\n",
        "\n",
        "import nltk\n",
        "from nltk.corpus import stopwords\n"
      ],
      "execution_count": 11,
      "outputs": []
    },
    {
      "cell_type": "code",
      "metadata": {
        "id": "_-qGoDdvYPQ2",
        "colab_type": "code",
        "colab": {}
      },
      "source": [
        "## Data Loading and checking for nulls and other\n",
        "path =\"/spamham.csv\""
      ],
      "execution_count": 12,
      "outputs": []
    },
    {
      "cell_type": "code",
      "metadata": {
        "id": "waOIjENEVIJS",
        "colab_type": "code",
        "colab": {
          "base_uri": "https://localhost:8080/",
          "height": 204
        },
        "outputId": "1caeb64b-db02-4362-d1d9-e07bbe579ddf"
      },
      "source": [
        "data = pd.read_csv(path)\n",
        "data.head()"
      ],
      "execution_count": 13,
      "outputs": [
        {
          "output_type": "execute_result",
          "data": {
            "text/html": [
              "<div>\n",
              "<style scoped>\n",
              "    .dataframe tbody tr th:only-of-type {\n",
              "        vertical-align: middle;\n",
              "    }\n",
              "\n",
              "    .dataframe tbody tr th {\n",
              "        vertical-align: top;\n",
              "    }\n",
              "\n",
              "    .dataframe thead th {\n",
              "        text-align: right;\n",
              "    }\n",
              "</style>\n",
              "<table border=\"1\" class=\"dataframe\">\n",
              "  <thead>\n",
              "    <tr style=\"text-align: right;\">\n",
              "      <th></th>\n",
              "      <th>text</th>\n",
              "      <th>spam</th>\n",
              "    </tr>\n",
              "  </thead>\n",
              "  <tbody>\n",
              "    <tr>\n",
              "      <th>0</th>\n",
              "      <td>Subject: naturally irresistible your corporate...</td>\n",
              "      <td>1</td>\n",
              "    </tr>\n",
              "    <tr>\n",
              "      <th>1</th>\n",
              "      <td>Subject: the stock trading gunslinger  fanny i...</td>\n",
              "      <td>1</td>\n",
              "    </tr>\n",
              "    <tr>\n",
              "      <th>2</th>\n",
              "      <td>Subject: unbelievable new homes made easy  im ...</td>\n",
              "      <td>1</td>\n",
              "    </tr>\n",
              "    <tr>\n",
              "      <th>3</th>\n",
              "      <td>Subject: 4 color printing special  request add...</td>\n",
              "      <td>1</td>\n",
              "    </tr>\n",
              "    <tr>\n",
              "      <th>4</th>\n",
              "      <td>Subject: do not have money , get software cds ...</td>\n",
              "      <td>1</td>\n",
              "    </tr>\n",
              "  </tbody>\n",
              "</table>\n",
              "</div>"
            ],
            "text/plain": [
              "                                                text  spam\n",
              "0  Subject: naturally irresistible your corporate...     1\n",
              "1  Subject: the stock trading gunslinger  fanny i...     1\n",
              "2  Subject: unbelievable new homes made easy  im ...     1\n",
              "3  Subject: 4 color printing special  request add...     1\n",
              "4  Subject: do not have money , get software cds ...     1"
            ]
          },
          "metadata": {
            "tags": []
          },
          "execution_count": 13
        }
      ]
    },
    {
      "cell_type": "code",
      "metadata": {
        "id": "FlntqgySVOZG",
        "colab_type": "code",
        "colab": {
          "base_uri": "https://localhost:8080/",
          "height": 51
        },
        "outputId": "3e7c9217-9001-4e58-cda1-55e8780fe84f"
      },
      "source": [
        "print(data.columns)\n",
        "data.shape"
      ],
      "execution_count": 14,
      "outputs": [
        {
          "output_type": "stream",
          "text": [
            "Index(['text', 'spam'], dtype='object')\n"
          ],
          "name": "stdout"
        },
        {
          "output_type": "execute_result",
          "data": {
            "text/plain": [
              "(5728, 2)"
            ]
          },
          "metadata": {
            "tags": []
          },
          "execution_count": 14
        }
      ]
    },
    {
      "cell_type": "code",
      "metadata": {
        "id": "aLtQw_4dXttO",
        "colab_type": "code",
        "colab": {
          "base_uri": "https://localhost:8080/",
          "height": 68
        },
        "outputId": "14ca3484-ed77-43e8-b607-affa529f2633"
      },
      "source": [
        "data.drop_duplicates(inplace = True)\n",
        "data.isnull().sum()"
      ],
      "execution_count": 15,
      "outputs": [
        {
          "output_type": "execute_result",
          "data": {
            "text/plain": [
              "text    0\n",
              "spam    0\n",
              "dtype: int64"
            ]
          },
          "metadata": {
            "tags": []
          },
          "execution_count": 15
        }
      ]
    },
    {
      "cell_type": "code",
      "metadata": {
        "id": "4KNWJVPJYAIq",
        "colab_type": "code",
        "colab": {
          "base_uri": "https://localhost:8080/",
          "height": 34
        },
        "outputId": "d939b9e9-a053-4b9f-b21d-d192e561bc20"
      },
      "source": [
        "data.shape"
      ],
      "execution_count": 16,
      "outputs": [
        {
          "output_type": "execute_result",
          "data": {
            "text/plain": [
              "(5695, 2)"
            ]
          },
          "metadata": {
            "tags": []
          },
          "execution_count": 16
        }
      ]
    },
    {
      "cell_type": "code",
      "metadata": {
        "id": "LmAVkWLEYviB",
        "colab_type": "code",
        "colab": {
          "base_uri": "https://localhost:8080/",
          "height": 51
        },
        "outputId": "0e21eb71-3976-4394-e06e-e2788307c716"
      },
      "source": [
        "#Tokenizing our dataset and creating a function for that\n",
        "nltk.download(\"stopwords\")\n",
        "from nltk.tokenize import RegexpTokenizer\n",
        "\n",
        "def clean_text(text):\n",
        "    tokenizer = RegexpTokenizer(r'\\w+')\n",
        "\n",
        "    clean_text = tokenizer.tokenize(text)\n",
        "    return \" \".join(clean_text).lower()           #We aqre using join to ceate clean_text into sentence rather than list\n",
        "\n",
        "#unlike previously, we will download onl;y stopwords\n",
        "#nltk.download('stopwords')\n",
        "from nltk.corpus import stopwords\n",
        "\n",
        "def clean_with_stopwords(clean_text):\n",
        "\n",
        "    sr = stopwords.words('english')\n",
        "    len(sr)\n",
        "\n",
        "    summary_words = []\n",
        "    for word in clean_text.split():\n",
        "\n",
        "        if word.lower() not in sr:\n",
        "            summary_words.append(word)\n",
        "\n",
        "    return summary_words"
      ],
      "execution_count": 22,
      "outputs": [
        {
          "output_type": "stream",
          "text": [
            "[nltk_data] Downloading package stopwords to /root/nltk_data...\n",
            "[nltk_data]   Unzipping corpora/stopwords.zip.\n"
          ],
          "name": "stdout"
        }
      ]
    },
    {
      "cell_type": "code",
      "metadata": {
        "id": "WEJS_LuQYM5h",
        "colab_type": "code",
        "colab": {
          "base_uri": "https://localhost:8080/",
          "height": 119
        },
        "outputId": "ac8a1b24-5a06-4e3b-8794-7dcf15702e0e"
      },
      "source": [
        "data['text'].head().apply(clean_text).apply(clean_with_stopwords)"
      ],
      "execution_count": 23,
      "outputs": [
        {
          "output_type": "execute_result",
          "data": {
            "text/plain": [
              "0    [subject, naturally, irresistible, corporate, ...\n",
              "1    [subject, stock, trading, gunslinger, fanny, m...\n",
              "2    [subject, unbelievable, new, homes, made, easy...\n",
              "3    [subject, 4, color, printing, special, request...\n",
              "4    [subject, money, get, software, cds, software,...\n",
              "Name: text, dtype: object"
            ]
          },
          "metadata": {
            "tags": []
          },
          "execution_count": 23
        }
      ]
    },
    {
      "cell_type": "code",
      "metadata": {
        "id": "BoO67cDUYoNK",
        "colab_type": "code",
        "colab": {}
      },
      "source": [
        "def process_text(text):\n",
        "\n",
        "    cleaned_text             = clean_text(text)\n",
        "    cleaned_without_stopword = clean_with_stopwords(cleaned_text) \n",
        "\n",
        "    return cleaned_without_stopword"
      ],
      "execution_count": 24,
      "outputs": []
    },
    {
      "cell_type": "code",
      "metadata": {
        "id": "YSgXd3OKbs8l",
        "colab_type": "code",
        "colab": {}
      },
      "source": [
        "#vectorizing our data\n",
        "from sklearn.feature_extraction.text import CountVectorizer\n",
        "\n",
        "messages_in_vector = CountVectorizer(analyzer=process_text).fit_transform(data['text'])"
      ],
      "execution_count": 25,
      "outputs": []
    },
    {
      "cell_type": "code",
      "metadata": {
        "id": "I1PLN-_QyVlQ",
        "colab_type": "code",
        "colab": {
          "base_uri": "https://localhost:8080/",
          "height": 34
        },
        "outputId": "93622a00-7cac-4ff1-b9d5-dd96c9f1897e"
      },
      "source": [
        "messages_in_vector.shape"
      ],
      "execution_count": 27,
      "outputs": [
        {
          "output_type": "execute_result",
          "data": {
            "text/plain": [
              "(5695, 37189)"
            ]
          },
          "metadata": {
            "tags": []
          },
          "execution_count": 27
        }
      ]
    },
    {
      "cell_type": "code",
      "metadata": {
        "id": "Q6vhJZiKcCCz",
        "colab_type": "code",
        "colab": {}
      },
      "source": [
        "#Train test split\n",
        "from sklearn.model_selection import train_test_split\n",
        "X = messages_in_vector\n",
        "y = data[\"spam\"]\n",
        "\n",
        "X_train, X_test, y_train, y_test = train_test_split( X, y, test_size = 0.20, random_state = 7)"
      ],
      "execution_count": 28,
      "outputs": []
    },
    {
      "cell_type": "code",
      "metadata": {
        "id": "hbcUfHxdcbOX",
        "colab_type": "code",
        "colab": {
          "base_uri": "https://localhost:8080/",
          "height": 85
        },
        "outputId": "14e1bb9c-0a43-422a-f4a1-325bbbcd4301"
      },
      "source": [
        "for i in (X_train, X_test, y_train, y_test):\n",
        "    print(i.shape)"
      ],
      "execution_count": 29,
      "outputs": [
        {
          "output_type": "stream",
          "text": [
            "(4556, 37189)\n",
            "(1139, 37189)\n",
            "(4556,)\n",
            "(1139,)\n"
          ],
          "name": "stdout"
        }
      ]
    },
    {
      "cell_type": "code",
      "metadata": {
        "id": "zCNiIAr5chYg",
        "colab_type": "code",
        "colab": {
          "base_uri": "https://localhost:8080/",
          "height": 34
        },
        "outputId": "04c5fcc0-3e9e-4359-d994-ac23c9c18923"
      },
      "source": [
        "#Creating our model\n",
        "from sklearn.naive_bayes import MultinomialNB\n",
        "\n",
        "spam_filter = MultinomialNB()\n",
        "spam_filter.fit(X_train, y_train)"
      ],
      "execution_count": 30,
      "outputs": [
        {
          "output_type": "execute_result",
          "data": {
            "text/plain": [
              "MultinomialNB(alpha=1.0, class_prior=None, fit_prior=True)"
            ]
          },
          "metadata": {
            "tags": []
          },
          "execution_count": 30
        }
      ]
    },
    {
      "cell_type": "code",
      "metadata": {
        "id": "ZqrFSR9Tcp6w",
        "colab_type": "code",
        "colab": {
          "base_uri": "https://localhost:8080/",
          "height": 51
        },
        "outputId": "649538f4-7055-4b64-f3ab-7eff48e80546"
      },
      "source": [
        "from sklearn.metrics import confusion_matrix,classification_report\n",
        "\n",
        "predictions = spam_filter.predict(X_test)\n",
        "actual      = y_test\n",
        "\n",
        "confusion_matrix(actual, predictions)"
      ],
      "execution_count": 32,
      "outputs": [
        {
          "output_type": "execute_result",
          "data": {
            "text/plain": [
              "array([[860,   7],\n",
              "       [  4, 268]])"
            ]
          },
          "metadata": {
            "tags": []
          },
          "execution_count": 32
        }
      ]
    },
    {
      "cell_type": "code",
      "metadata": {
        "id": "OWdiCBP7dMd0",
        "colab_type": "code",
        "colab": {
          "base_uri": "https://localhost:8080/",
          "height": 170
        },
        "outputId": "d18815a7-9dd1-4b6f-bcb7-9625442e1264"
      },
      "source": [
        "print(classification_report(actual,predictions))"
      ],
      "execution_count": 33,
      "outputs": [
        {
          "output_type": "stream",
          "text": [
            "              precision    recall  f1-score   support\n",
            "\n",
            "           0       1.00      0.99      0.99       867\n",
            "           1       0.97      0.99      0.98       272\n",
            "\n",
            "    accuracy                           0.99      1139\n",
            "   macro avg       0.98      0.99      0.99      1139\n",
            "weighted avg       0.99      0.99      0.99      1139\n",
            "\n"
          ],
          "name": "stdout"
        }
      ]
    },
    {
      "cell_type": "code",
      "metadata": {
        "id": "exi5uDTb1QyM",
        "colab_type": "code",
        "colab": {}
      },
      "source": [
        "# stemming\n",
        "#bag of words\n",
        "# pos\n",
        "# tf-idf :term frequency, reverse document frequency\n",
        "#lemmetization\n",
        "#word2vec\n",
        "#n-gram(vectorization)"
      ],
      "execution_count": null,
      "outputs": []
    }
  ]
}