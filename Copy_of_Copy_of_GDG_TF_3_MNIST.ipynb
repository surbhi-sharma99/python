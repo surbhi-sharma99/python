{
  "nbformat": 4,
  "nbformat_minor": 0,
  "metadata": {
    "colab": {
      "name": "Copy of Copy of GDG TF 3 MNIST",
      "provenance": [],
      "collapsed_sections": [],
      "include_colab_link": true
    },
    "kernelspec": {
      "name": "python3",
      "display_name": "Python 3"
    }
  },
  "cells": [
    {
      "cell_type": "markdown",
      "metadata": {
        "id": "view-in-github",
        "colab_type": "text"
      },
      "source": [
        "<a href=\"https://colab.research.google.com/github/surbhi-sharma99/python/blob/master/Copy_of_Copy_of_GDG_TF_3_MNIST.ipynb\" target=\"_parent\"><img src=\"https://colab.research.google.com/assets/colab-badge.svg\" alt=\"Open In Colab\"/></a>"
      ]
    },
    {
      "cell_type": "code",
      "metadata": {
        "id": "JpXY-jMBHc0F",
        "colab_type": "code",
        "colab": {
          "base_uri": "https://localhost:8080/",
          "height": 105
        },
        "outputId": "9dbf3b25-a4b7-49ac-df4d-448c863dbfce"
      },
      "source": [
        "#from __future__ import absolute_import, division, print_function\n",
        "\n",
        "# TensorFlow and tf.keras\n",
        "import tensorflow.compat.v1 as tf\n",
        "tf.disable_v2_behavior()\n",
        "\n",
        "from tensorflow import keras\n",
        "\n",
        "# Helper libraries\n",
        "import numpy as np\n",
        "import matplotlib.pyplot as plt\n",
        "\n",
        "print(tf.__version__)"
      ],
      "execution_count": 1,
      "outputs": [
        {
          "output_type": "stream",
          "text": [
            "WARNING:tensorflow:From /usr/local/lib/python3.6/dist-packages/tensorflow/python/compat/v2_compat.py:96: disable_resource_variables (from tensorflow.python.ops.variable_scope) is deprecated and will be removed in a future version.\n",
            "Instructions for updating:\n",
            "non-resource variables are not supported in the long term\n",
            "2.2.0\n"
          ],
          "name": "stdout"
        }
      ]
    },
    {
      "cell_type": "code",
      "metadata": {
        "id": "E_v7Qv5nplgx",
        "colab_type": "code",
        "colab": {}
      },
      "source": [
        "\n",
        "(train_images, train_labels), (test_images, test_labels) = tf.keras.datasets.mnist.load_data()\n"
      ],
      "execution_count": 15,
      "outputs": []
    },
    {
      "cell_type": "code",
      "metadata": {
        "id": "8RBdKcN2BFyu",
        "colab_type": "code",
        "colab": {}
      },
      "source": [
        "example1 = tf.one_hot([0,2,0,0,2,1,1,2,0,2],3)"
      ],
      "execution_count": 11,
      "outputs": []
    },
    {
      "cell_type": "code",
      "metadata": {
        "id": "xarfB3cLBYUD",
        "colab_type": "code",
        "colab": {
          "base_uri": "https://localhost:8080/",
          "height": 187
        },
        "outputId": "e09a36e7-bf06-449b-fc47-eba3e1d6027e"
      },
      "source": [
        "example1.eval()"
      ],
      "execution_count": 12,
      "outputs": [
        {
          "output_type": "execute_result",
          "data": {
            "text/plain": [
              "array([[1., 0., 0.],\n",
              "       [0., 0., 1.],\n",
              "       [1., 0., 0.],\n",
              "       [1., 0., 0.],\n",
              "       [0., 0., 1.],\n",
              "       [0., 1., 0.],\n",
              "       [0., 1., 0.],\n",
              "       [0., 0., 1.],\n",
              "       [1., 0., 0.],\n",
              "       [0., 0., 1.]], dtype=float32)"
            ]
          },
          "metadata": {
            "tags": []
          },
          "execution_count": 12
        }
      ]
    },
    {
      "cell_type": "code",
      "metadata": {
        "id": "gk2-amXC_HVm",
        "colab_type": "code",
        "colab": {}
      },
      "source": [
        "train_labels, test_labesl = tf.one_hot(train_labels, 10), tf.one_hot(test_labels, 10)"
      ],
      "execution_count": 16,
      "outputs": []
    },
    {
      "cell_type": "code",
      "metadata": {
        "id": "2tk0L2auHqHe",
        "colab_type": "code",
        "colab": {
          "base_uri": "https://localhost:8080/",
          "height": 34
        },
        "outputId": "075097f4-e2a6-4eba-ffe6-c26d1c579b5f"
      },
      "source": [
        "train_labels.shape"
      ],
      "execution_count": 17,
      "outputs": [
        {
          "output_type": "execute_result",
          "data": {
            "text/plain": [
              "TensorShape([Dimension(60000), Dimension(10)])"
            ]
          },
          "metadata": {
            "tags": []
          },
          "execution_count": 17
        }
      ]
    },
    {
      "cell_type": "code",
      "metadata": {
        "id": "hazhTAq8Jo3f",
        "colab_type": "code",
        "colab": {
          "base_uri": "https://localhost:8080/",
          "height": 34
        },
        "outputId": "a43a1523-7b0c-40dd-d777-0cc78d09ffe6"
      },
      "source": [
        "train_labels[456].eval()"
      ],
      "execution_count": 19,
      "outputs": [
        {
          "output_type": "execute_result",
          "data": {
            "text/plain": [
              "array([0., 0., 0., 0., 0., 0., 0., 0., 1., 0.], dtype=float32)"
            ]
          },
          "metadata": {
            "tags": []
          },
          "execution_count": 19
        }
      ]
    },
    {
      "cell_type": "code",
      "metadata": {
        "id": "J1H78W-EMcGo",
        "colab_type": "code",
        "colab": {}
      },
      "source": [
        "image_size = 28\n",
        "labels_size = 10                     #as we know only 10 digits in decimal numbering system\n",
        "\n",
        "## Ignore below lines for now\n",
        "learning_rate = 0.05\n",
        "steps_number = 1000\n",
        "batch_size = 100\n",
        "hidden_1_size = 50\n",
        "hidden_2_size = 100\n",
        "hidden_3_size = 50"
      ],
      "execution_count": 24,
      "outputs": []
    },
    {
      "cell_type": "code",
      "metadata": {
        "id": "oeGTEg0uJxa7",
        "colab_type": "code",
        "colab": {
          "base_uri": "https://localhost:8080/",
          "height": 299
        },
        "outputId": "a0c2e61b-6587-425d-c9e7-45fd48ef0f90"
      },
      "source": [
        "import matplotlib.pyplot as plt\n",
        "\n",
        "image_index = 34527\n",
        "print(\"Label on Image : \", train_labels[image_index])\n",
        "\n",
        "plt.imshow(train_images[image_index].reshape(28,28) )"
      ],
      "execution_count": 22,
      "outputs": [
        {
          "output_type": "stream",
          "text": [
            "Label on Image :  Tensor(\"strided_slice_2:0\", shape=(10,), dtype=float32)\n"
          ],
          "name": "stdout"
        },
        {
          "output_type": "execute_result",
          "data": {
            "text/plain": [
              "<matplotlib.image.AxesImage at 0x7f86977da358>"
            ]
          },
          "metadata": {
            "tags": []
          },
          "execution_count": 22
        },
        {
          "output_type": "display_data",
          "data": {
            "image/png": "[encoded data removed]",
            "text/plain": [
              "<Figure size 432x288 with 1 Axes>"
            ]
          },
          "metadata": {
            "tags": [],
            "needs_background": "light"
          }
        }
      ]
    },
    {
      "cell_type": "code",
      "metadata": {
        "id": "ESNpvUiUKO1y",
        "colab_type": "code",
        "colab": {}
      },
      "source": [
        "#Creating placeholder for our training image vaariables, and labels\n",
        "#To Feed the network with our training data,, which would eventually give out and output telling our digit\n",
        "#Out training would be seeing the image comparing it to the label, again and again after correction\n",
        "#hence we would need these to placeholders\n",
        "\n",
        "training_data = tf.placeholder(tf.float32, [None, image_size*image_size])\n",
        "labels = tf.placeholder(tf.float32, [None, labels_size])"
      ],
      "execution_count": 23,
      "outputs": []
    },
    {
      "cell_type": "code",
      "metadata": {
        "id": "RMZ3ECcPXck4",
        "colab_type": "code",
        "colab": {}
      },
      "source": [
        "## Creating a new Hidden Layer\n",
        "\n",
        "# Variables of hidden layer, W and b for hidden layer nodes\n",
        "W_h = tf.Variable(tf.truncated_normal([image_size*image_size, hidden_1_size], stddev=0.1))\n",
        "b_h = tf.Variable(tf.constant(0.1, shape = [hidden_1_size] ) )\n",
        "\n",
        "# Creating a relu activation function \n",
        "hidden_1 = tf.nn.relu(tf.matmul(training_data, W_h) + b_h)\n",
        "\n",
        "\n",
        "W_h1 = tf.Variable(tf.truncated_normal([hidden_1_size,hidden_2_size], stddev=0.1))\n",
        "b_h1 = tf.Variable(tf.constant(0.1, shape=[hidden_2_size] ) )\n",
        "\n",
        "# Creating a relu activation function \n",
        "hidden2 = tf.nn.relu(tf.matmul(hidden_1, W_h1) + b_h1)"
      ],
      "execution_count": 25,
      "outputs": []
    },
    {
      "cell_type": "code",
      "metadata": {
        "id": "Fu6wBEwqNykm",
        "colab_type": "code",
        "colab": {}
      },
      "source": [
        "# Now the last output layer's W b   , would be changed to take input from\n",
        "#our Previously made hidden layer\n",
        "\n",
        "# Another W  and b for output layer\n",
        "W = tf.Variable(tf.truncated_normal([hidden_size, labels_size], stddev=0.1))\n",
        "b = tf.Variable(tf.constant(0.1, shape=[labels_size]))\n",
        "\n",
        "# Connect hidden to the output layer\n",
        "output = tf.matmul(hidden_1, W) + b"
      ],
      "execution_count": 27,
      "outputs": []
    },
    {
      "cell_type": "code",
      "metadata": {
        "id": "DxiH3RC9PjEl",
        "colab_type": "code",
        "colab": {}
      },
      "source": [
        "# Creating a loss function, or as understood, how far we are from the actuall value\n",
        "loss = tf.reduce_mean(tf.nn.softmax_cross_entropy_with_logits(labels=labels, logits=output))\n",
        "\n",
        "# Gradient Descent Optimizer, to which we would give a leearning rate as discussed,\n",
        "# and we would provide a function to him, so that he has an aim to minimize it.\n",
        "train_step = tf.train.AdamOptimizer(learning_rate).minimize(loss)"
      ],
      "execution_count": null,
      "outputs": []
    },
    {
      "cell_type": "code",
      "metadata": {
        "id": "b6WTmttLQO-g",
        "colab_type": "code",
        "colab": {}
      },
      "source": [
        "correct_prediction = tf.equal(tf.argmax(output, 1), tf.argmax(labels, 1))\n",
        "accuracy = tf.reduce_mean(tf.cast(correct_prediction, tf.float32))"
      ],
      "execution_count": null,
      "outputs": []
    },
    {
      "cell_type": "code",
      "metadata": {
        "id": "C8oX3XPMQ30b",
        "colab_type": "code",
        "colab": {}
      },
      "source": [
        "sess = tf.InteractiveSession()\n",
        "sess.run(tf.global_variables_initializer())"
      ],
      "execution_count": 7,
      "outputs": []
    },
    {
      "cell_type": "code",
      "metadata": {
        "id": "1GqXGet4TBJx",
        "colab_type": "code",
        "colab": {}
      },
      "source": [
        ""
      ],
      "execution_count": null,
      "outputs": []
    },
    {
      "cell_type": "code",
      "metadata": {
        "id": "GZwuMuIPRBHJ",
        "colab_type": "code",
        "colab": {
          "base_uri": "https://localhost:8080/",
          "height": 5852
        },
        "outputId": "cad40d5e-0443-498f-bde9-aa5943d71489"
      },
      "source": [
        "for i in range(steps_number):\n",
        "  # Get the next batch\n",
        "  input_batch, labels_batch = mnist.train.next_batch(batch_size)\n",
        "  feed_dict = {training_data: input_batch, labels: labels_batch}\n",
        "\n",
        "  # Run the training step\n",
        "  train_step.run(feed_dict=feed_dict)\n",
        "  \n",
        "  if i%9 == 0:\n",
        "    train_accuracy = accuracy.eval(feed_dict=feed_dict)\n",
        "    print(\"Step %d, training batch accuracy %g %%\"%(i, train_accuracy*100))\n",
        "    test_accuracy = accuracy.eval(feed_dict={training_data: mnist.test.images, labels: mnist.test.labels})\n",
        "    print(\"Test accuracy: %g %%\"%(test_accuracy*100))\n",
        "    print(\"-\"*30)"
      ],
      "execution_count": null,
      "outputs": [
        {
          "output_type": "stream",
          "text": [
            "Step 0, training batch accuracy 96 %\n",
            "Test accuracy: 92.24 %\n",
            "------------------------------\n",
            "Step 9, training batch accuracy 97 %\n",
            "Test accuracy: 91.85 %\n",
            "------------------------------\n",
            "Step 18, training batch accuracy 92 %\n",
            "Test accuracy: 93.15 %\n",
            "------------------------------\n",
            "Step 27, training batch accuracy 99 %\n",
            "Test accuracy: 92.75 %\n",
            "------------------------------\n",
            "Step 36, training batch accuracy 96 %\n",
            "Test accuracy: 92.47 %\n",
            "------------------------------\n",
            "Step 45, training batch accuracy 92 %\n",
            "Test accuracy: 93.16 %\n",
            "------------------------------\n",
            "Step 54, training batch accuracy 97 %\n",
            "Test accuracy: 93.4 %\n",
            "------------------------------\n",
            "Step 63, training batch accuracy 94 %\n",
            "Test accuracy: 92.32 %\n",
            "------------------------------\n",
            "Step 72, training batch accuracy 93 %\n",
            "Test accuracy: 93.42 %\n",
            "------------------------------\n",
            "Step 81, training batch accuracy 94 %\n",
            "Test accuracy: 93.37 %\n",
            "------------------------------\n",
            "Step 90, training batch accuracy 93 %\n",
            "Test accuracy: 92.39 %\n",
            "------------------------------\n",
            "Step 99, training batch accuracy 90 %\n",
            "Test accuracy: 93.19 %\n",
            "------------------------------\n",
            "Step 108, training batch accuracy 93 %\n",
            "Test accuracy: 92.87 %\n",
            "------------------------------\n",
            "Step 117, training batch accuracy 95 %\n",
            "Test accuracy: 92.91 %\n",
            "------------------------------\n",
            "Step 126, training batch accuracy 94 %\n",
            "Test accuracy: 93.01 %\n",
            "------------------------------\n",
            "Step 135, training batch accuracy 93 %\n",
            "Test accuracy: 93.86 %\n",
            "------------------------------\n",
            "Step 144, training batch accuracy 100 %\n",
            "Test accuracy: 93.17 %\n",
            "------------------------------\n",
            "Step 153, training batch accuracy 97 %\n",
            "Test accuracy: 93.4 %\n",
            "------------------------------\n",
            "Step 162, training batch accuracy 91 %\n",
            "Test accuracy: 93.85 %\n",
            "------------------------------\n",
            "Step 171, training batch accuracy 97 %\n",
            "Test accuracy: 93.36 %\n",
            "------------------------------\n",
            "Step 180, training batch accuracy 92 %\n",
            "Test accuracy: 92.57 %\n",
            "------------------------------\n",
            "Step 189, training batch accuracy 97 %\n",
            "Test accuracy: 92.46 %\n",
            "------------------------------\n",
            "Step 198, training batch accuracy 91 %\n",
            "Test accuracy: 93.08 %\n",
            "------------------------------\n",
            "Step 207, training batch accuracy 95 %\n",
            "Test accuracy: 92.85 %\n",
            "------------------------------\n",
            "Step 216, training batch accuracy 94 %\n",
            "Test accuracy: 91.8 %\n",
            "------------------------------\n",
            "Step 225, training batch accuracy 96 %\n",
            "Test accuracy: 92.39 %\n",
            "------------------------------\n",
            "Step 234, training batch accuracy 96 %\n",
            "Test accuracy: 93.23 %\n",
            "------------------------------\n",
            "Step 243, training batch accuracy 94 %\n",
            "Test accuracy: 92.46 %\n",
            "------------------------------\n",
            "Step 252, training batch accuracy 91 %\n",
            "Test accuracy: 92.53 %\n",
            "------------------------------\n",
            "Step 261, training batch accuracy 92 %\n",
            "Test accuracy: 93.6 %\n",
            "------------------------------\n",
            "Step 270, training batch accuracy 86 %\n",
            "Test accuracy: 93.57 %\n",
            "------------------------------\n",
            "Step 279, training batch accuracy 89 %\n",
            "Test accuracy: 93.06 %\n",
            "------------------------------\n",
            "Step 288, training batch accuracy 90 %\n",
            "Test accuracy: 93.41 %\n",
            "------------------------------\n",
            "Step 297, training batch accuracy 96 %\n",
            "Test accuracy: 93.51 %\n",
            "------------------------------\n",
            "Step 306, training batch accuracy 92 %\n",
            "Test accuracy: 93.37 %\n",
            "------------------------------\n",
            "Step 315, training batch accuracy 94 %\n",
            "Test accuracy: 92.48 %\n",
            "------------------------------\n",
            "Step 324, training batch accuracy 94 %\n",
            "Test accuracy: 92.64 %\n",
            "------------------------------\n",
            "Step 333, training batch accuracy 93 %\n",
            "Test accuracy: 93.25 %\n",
            "------------------------------\n",
            "Step 342, training batch accuracy 91 %\n",
            "Test accuracy: 93.56 %\n",
            "------------------------------\n",
            "Step 351, training batch accuracy 97 %\n",
            "Test accuracy: 93.48 %\n",
            "------------------------------\n",
            "Step 360, training batch accuracy 95 %\n",
            "Test accuracy: 93.51 %\n",
            "------------------------------\n",
            "Step 369, training batch accuracy 94 %\n",
            "Test accuracy: 93.27 %\n",
            "------------------------------\n",
            "Step 378, training batch accuracy 90 %\n",
            "Test accuracy: 92.87 %\n",
            "------------------------------\n",
            "Step 387, training batch accuracy 94 %\n",
            "Test accuracy: 92.4 %\n",
            "------------------------------\n",
            "Step 396, training batch accuracy 92 %\n",
            "Test accuracy: 92.98 %\n",
            "------------------------------\n",
            "Step 405, training batch accuracy 89 %\n",
            "Test accuracy: 92.84 %\n",
            "------------------------------\n",
            "Step 414, training batch accuracy 92 %\n",
            "Test accuracy: 92.46 %\n",
            "------------------------------\n",
            "Step 423, training batch accuracy 94 %\n",
            "Test accuracy: 92.47 %\n",
            "------------------------------\n",
            "Step 432, training batch accuracy 92 %\n",
            "Test accuracy: 93.01 %\n",
            "------------------------------\n",
            "Step 441, training batch accuracy 94 %\n",
            "Test accuracy: 92.9 %\n",
            "------------------------------\n",
            "Step 450, training batch accuracy 94 %\n",
            "Test accuracy: 92.55 %\n",
            "------------------------------\n",
            "Step 459, training batch accuracy 92 %\n",
            "Test accuracy: 92.03 %\n",
            "------------------------------\n",
            "Step 468, training batch accuracy 89 %\n",
            "Test accuracy: 91.34 %\n",
            "------------------------------\n",
            "Step 477, training batch accuracy 91 %\n",
            "Test accuracy: 93.01 %\n",
            "------------------------------\n",
            "Step 486, training batch accuracy 93 %\n",
            "Test accuracy: 93.39 %\n",
            "------------------------------\n",
            "Step 495, training batch accuracy 93 %\n",
            "Test accuracy: 92.46 %\n",
            "------------------------------\n",
            "Step 504, training batch accuracy 95 %\n",
            "Test accuracy: 91.76 %\n",
            "------------------------------\n",
            "Step 513, training batch accuracy 93 %\n",
            "Test accuracy: 91.6 %\n",
            "------------------------------\n",
            "Step 522, training batch accuracy 96 %\n",
            "Test accuracy: 92.75 %\n",
            "------------------------------\n",
            "Step 531, training batch accuracy 94 %\n",
            "Test accuracy: 91.97 %\n",
            "------------------------------\n",
            "Step 540, training batch accuracy 94 %\n",
            "Test accuracy: 92.6 %\n",
            "------------------------------\n",
            "Step 549, training batch accuracy 92 %\n",
            "Test accuracy: 92.98 %\n",
            "------------------------------\n",
            "Step 558, training batch accuracy 94 %\n",
            "Test accuracy: 92.67 %\n",
            "------------------------------\n",
            "Step 567, training batch accuracy 94 %\n",
            "Test accuracy: 93.63 %\n",
            "------------------------------\n",
            "Step 576, training batch accuracy 91 %\n",
            "Test accuracy: 93.64 %\n",
            "------------------------------\n",
            "Step 585, training batch accuracy 91 %\n",
            "Test accuracy: 92.92 %\n",
            "------------------------------\n",
            "Step 594, training batch accuracy 96 %\n",
            "Test accuracy: 93.09 %\n",
            "------------------------------\n",
            "Step 603, training batch accuracy 95 %\n",
            "Test accuracy: 93.22 %\n",
            "------------------------------\n",
            "Step 612, training batch accuracy 90 %\n",
            "Test accuracy: 93.42 %\n",
            "------------------------------\n",
            "Step 621, training batch accuracy 96 %\n",
            "Test accuracy: 93.33 %\n",
            "------------------------------\n",
            "Step 630, training batch accuracy 97 %\n",
            "Test accuracy: 93.37 %\n",
            "------------------------------\n",
            "Step 639, training batch accuracy 93 %\n",
            "Test accuracy: 93.42 %\n",
            "------------------------------\n",
            "Step 648, training batch accuracy 87 %\n",
            "Test accuracy: 93.36 %\n",
            "------------------------------\n",
            "Step 657, training batch accuracy 95 %\n",
            "Test accuracy: 92.69 %\n",
            "------------------------------\n",
            "Step 666, training batch accuracy 96 %\n",
            "Test accuracy: 93.24 %\n",
            "------------------------------\n",
            "Step 675, training batch accuracy 97 %\n",
            "Test accuracy: 93.76 %\n",
            "------------------------------\n",
            "Step 684, training batch accuracy 95 %\n",
            "Test accuracy: 92.56 %\n",
            "------------------------------\n",
            "Step 693, training batch accuracy 94 %\n",
            "Test accuracy: 92.34 %\n",
            "------------------------------\n",
            "Step 702, training batch accuracy 95 %\n",
            "Test accuracy: 92.58 %\n",
            "------------------------------\n",
            "Step 711, training batch accuracy 93 %\n",
            "Test accuracy: 91.25 %\n",
            "------------------------------\n",
            "Step 720, training batch accuracy 93 %\n",
            "Test accuracy: 91.05 %\n",
            "------------------------------\n",
            "Step 729, training batch accuracy 94 %\n",
            "Test accuracy: 92.71 %\n",
            "------------------------------\n",
            "Step 738, training batch accuracy 97 %\n",
            "Test accuracy: 93.15 %\n",
            "------------------------------\n",
            "Step 747, training batch accuracy 93 %\n",
            "Test accuracy: 91.64 %\n",
            "------------------------------\n",
            "Step 756, training batch accuracy 91 %\n",
            "Test accuracy: 92.35 %\n",
            "------------------------------\n",
            "Step 765, training batch accuracy 91 %\n",
            "Test accuracy: 92.9 %\n",
            "------------------------------\n",
            "Step 774, training batch accuracy 98 %\n",
            "Test accuracy: 92.39 %\n",
            "------------------------------\n",
            "Step 783, training batch accuracy 95 %\n",
            "Test accuracy: 92.8 %\n",
            "------------------------------\n",
            "Step 792, training batch accuracy 96 %\n",
            "Test accuracy: 92.09 %\n",
            "------------------------------\n",
            "Step 801, training batch accuracy 99 %\n",
            "Test accuracy: 92.14 %\n",
            "------------------------------\n",
            "Step 810, training batch accuracy 95 %\n",
            "Test accuracy: 90.76 %\n",
            "------------------------------\n",
            "Step 819, training batch accuracy 96 %\n",
            "Test accuracy: 93.21 %\n",
            "------------------------------\n",
            "Step 828, training batch accuracy 95 %\n",
            "Test accuracy: 93.1 %\n",
            "------------------------------\n",
            "Step 837, training batch accuracy 99 %\n",
            "Test accuracy: 93.25 %\n",
            "------------------------------\n",
            "Step 846, training batch accuracy 87 %\n",
            "Test accuracy: 93.51 %\n",
            "------------------------------\n",
            "Step 855, training batch accuracy 93 %\n",
            "Test accuracy: 93.33 %\n",
            "------------------------------\n",
            "Step 864, training batch accuracy 99 %\n",
            "Test accuracy: 92.83 %\n",
            "------------------------------\n",
            "Step 873, training batch accuracy 91 %\n",
            "Test accuracy: 92.69 %\n",
            "------------------------------\n",
            "Step 882, training batch accuracy 92 %\n",
            "Test accuracy: 92.81 %\n",
            "------------------------------\n",
            "Step 891, training batch accuracy 91 %\n",
            "Test accuracy: 92.53 %\n",
            "------------------------------\n",
            "Step 900, training batch accuracy 97 %\n",
            "Test accuracy: 93.07 %\n",
            "------------------------------\n",
            "Step 909, training batch accuracy 95 %\n",
            "Test accuracy: 93.03 %\n",
            "------------------------------\n",
            "Step 918, training batch accuracy 97 %\n",
            "Test accuracy: 93.49 %\n",
            "------------------------------\n",
            "Step 927, training batch accuracy 92 %\n",
            "Test accuracy: 92.52 %\n",
            "------------------------------\n",
            "Step 936, training batch accuracy 97 %\n",
            "Test accuracy: 93.67 %\n",
            "------------------------------\n",
            "Step 945, training batch accuracy 95 %\n",
            "Test accuracy: 93.39 %\n",
            "------------------------------\n",
            "Step 954, training batch accuracy 92 %\n",
            "Test accuracy: 92.91 %\n",
            "------------------------------\n",
            "Step 963, training batch accuracy 93 %\n",
            "Test accuracy: 92.64 %\n",
            "------------------------------\n",
            "Step 972, training batch accuracy 92 %\n",
            "Test accuracy: 93.2 %\n",
            "------------------------------\n",
            "Step 981, training batch accuracy 95 %\n",
            "Test accuracy: 93.34 %\n",
            "------------------------------\n",
            "Step 990, training batch accuracy 92 %\n",
            "Test accuracy: 93.62 %\n",
            "------------------------------\n",
            "Step 999, training batch accuracy 95 %\n",
            "Test accuracy: 92.8 %\n",
            "------------------------------\n"
          ],
          "name": "stdout"
        }
      ]
    },
    {
      "cell_type": "code",
      "metadata": {
        "id": "q3cv9jZ-RX65",
        "colab_type": "code",
        "colab": {
          "base_uri": "https://localhost:8080/",
          "height": 34
        },
        "outputId": "77139365-130e-43d4-dddb-e88aaf597d59"
      },
      "source": [
        " test_accuracy = accuracy.eval(feed_dict={training_data: mnist.test.images, labels: mnist.test.labels})\n",
        "print(\"Test accuracy: %g %%\"%(test_accuracy*100))"
      ],
      "execution_count": null,
      "outputs": [
        {
          "output_type": "stream",
          "text": [
            "Test accuracy: 92.8 %\n"
          ],
          "name": "stdout"
        }
      ]
    },
    {
      "cell_type": "code",
      "metadata": {
        "id": "fw_dxzIZRldW",
        "colab_type": "code",
        "colab": {}
      },
      "source": [
        ""
      ],
      "execution_count": null,
      "outputs": []
    },
    {
      "cell_type": "code",
      "metadata": {
        "id": "6vCpnTkrULu5",
        "colab_type": "code",
        "colab": {}
      },
      "source": [
        ""
      ],
      "execution_count": null,
      "outputs": []
    }
  ]
}